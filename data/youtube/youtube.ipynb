{
 "cells": [
  {
   "cell_type": "markdown",
   "metadata": {},
   "source": [
    "Goal: to import google takeout data of youtube watch history to gain insights\n",
    "\n",
    "Data: https://takeout.google.com <br>\n",
    "Document: jupyter notebook <br>\n",
    "Import: python <br>\n",
    "Dataframe: pandas, numpy <br>\n",
    "Visualize: matplotlib <br>\n",
    "\n",
    "Follow an example of youtube data analysis:\n",
    "https://jovian.ai/lucafrance/learning-from-my-youtube-watch-history"
   ]
  },
  {
   "cell_type": "markdown",
   "metadata": {},
   "source": [
    "Import google data as pandas dataframe"
   ]
  },
  {
   "cell_type": "code",
   "execution_count": 2,
   "metadata": {},
   "outputs": [],
   "source": [
    "\n",
    "import json\n",
    "import pandas as pd\n",
    "with open('./google-takeout/YouTube and YouTube Music/history/watch-history.json', 'r') as f:\n",
    "    data = json.load(f)\n",
    "df = pd.DataFrame(data)\n"
   ]
  },
  {
   "cell_type": "markdown",
   "metadata": {},
   "source": [
    "Display dataframe as table"
   ]
  },
  {
   "cell_type": "code",
   "execution_count": 3,
   "metadata": {},
   "outputs": [
    {
     "data": {
      "text/html": [
       "<div>\n",
       "<style scoped>\n",
       "    .dataframe tbody tr th:only-of-type {\n",
       "        vertical-align: middle;\n",
       "    }\n",
       "\n",
       "    .dataframe tbody tr th {\n",
       "        vertical-align: top;\n",
       "    }\n",
       "\n",
       "    .dataframe thead th {\n",
       "        text-align: right;\n",
       "    }\n",
       "</style>\n",
       "<table border=\"1\" class=\"dataframe\">\n",
       "  <thead>\n",
       "    <tr style=\"text-align: right;\">\n",
       "      <th></th>\n",
       "      <th>header</th>\n",
       "      <th>title</th>\n",
       "      <th>titleUrl</th>\n",
       "      <th>subtitles</th>\n",
       "      <th>time</th>\n",
       "      <th>products</th>\n",
       "      <th>activityControls</th>\n",
       "      <th>description</th>\n",
       "      <th>details</th>\n",
       "    </tr>\n",
       "  </thead>\n",
       "  <tbody>\n",
       "    <tr>\n",
       "      <th>0</th>\n",
       "      <td>YouTube</td>\n",
       "      <td>Watched Brute Showdown Episode 3: Deadlift, Ph...</td>\n",
       "      <td>https://www.youtube.com/watch?v=FJ5Sxlhn-3I</td>\n",
       "      <td>[{'name': 'Brute Strength', 'url': 'https://ww...</td>\n",
       "      <td>2022-06-09T00:28:32.650Z</td>\n",
       "      <td>[YouTube]</td>\n",
       "      <td>[YouTube watch history]</td>\n",
       "      <td>NaN</td>\n",
       "      <td>NaN</td>\n",
       "    </tr>\n",
       "    <tr>\n",
       "      <th>1</th>\n",
       "      <td>YouTube</td>\n",
       "      <td>Watched Disney+ | The Book of Boba Fett</td>\n",
       "      <td>https://www.youtube.com/watch?v=yUDTNEqd5Zk</td>\n",
       "      <td>NaN</td>\n",
       "      <td>2022-06-09T00:28:16.307Z</td>\n",
       "      <td>[YouTube]</td>\n",
       "      <td>[Web &amp; App Activity, YouTube watch history, Yo...</td>\n",
       "      <td>Watched at 7:28pm</td>\n",
       "      <td>[{'name': 'From Google Ads'}]</td>\n",
       "    </tr>\n",
       "    <tr>\n",
       "      <th>2</th>\n",
       "      <td>YouTube</td>\n",
       "      <td>Watched Why we’re leaving California.</td>\n",
       "      <td>https://www.youtube.com/watch?v=E9se1YqCRaA</td>\n",
       "      <td>[{'name': 'Matt D'Avella', 'url': 'https://www...</td>\n",
       "      <td>2022-06-09T00:27:38.615Z</td>\n",
       "      <td>[YouTube]</td>\n",
       "      <td>[YouTube watch history]</td>\n",
       "      <td>NaN</td>\n",
       "      <td>NaN</td>\n",
       "    </tr>\n",
       "    <tr>\n",
       "      <th>3</th>\n",
       "      <td>YouTube</td>\n",
       "      <td>Watched Best of Kiasmos</td>\n",
       "      <td>https://www.youtube.com/watch?v=F1gIsoIVQG8</td>\n",
       "      <td>[{'name': 'Cure Music', 'url': 'https://www.yo...</td>\n",
       "      <td>2022-06-09T00:25:09.401Z</td>\n",
       "      <td>[YouTube]</td>\n",
       "      <td>[YouTube watch history]</td>\n",
       "      <td>NaN</td>\n",
       "      <td>NaN</td>\n",
       "    </tr>\n",
       "    <tr>\n",
       "      <th>4</th>\n",
       "      <td>YouTube</td>\n",
       "      <td>Watched Vrbo | A Place Together | 30s | Combo</td>\n",
       "      <td>https://www.youtube.com/watch?v=lPxEdelzWvI</td>\n",
       "      <td>NaN</td>\n",
       "      <td>2022-06-09T00:25:02.652Z</td>\n",
       "      <td>[YouTube]</td>\n",
       "      <td>[Web &amp; App Activity, YouTube watch history, Yo...</td>\n",
       "      <td>Watched at 7:25pm</td>\n",
       "      <td>[{'name': 'From Google Ads'}]</td>\n",
       "    </tr>\n",
       "    <tr>\n",
       "      <th>...</th>\n",
       "      <td>...</td>\n",
       "      <td>...</td>\n",
       "      <td>...</td>\n",
       "      <td>...</td>\n",
       "      <td>...</td>\n",
       "      <td>...</td>\n",
       "      <td>...</td>\n",
       "      <td>...</td>\n",
       "      <td>...</td>\n",
       "    </tr>\n",
       "    <tr>\n",
       "      <th>36561</th>\n",
       "      <td>YouTube</td>\n",
       "      <td>Watched EPIC WORKOUT | Bradley Martyn, Phil He...</td>\n",
       "      <td>https://www.youtube.com/watch?v=rVKs3TmaF1Y</td>\n",
       "      <td>[{'name': 'Bradley Martyn', 'url': 'https://ww...</td>\n",
       "      <td>2018-01-16T18:39:19.530Z</td>\n",
       "      <td>[YouTube]</td>\n",
       "      <td>[YouTube watch history]</td>\n",
       "      <td>NaN</td>\n",
       "      <td>NaN</td>\n",
       "    </tr>\n",
       "    <tr>\n",
       "      <th>36562</th>\n",
       "      <td>YouTube</td>\n",
       "      <td>Watched Sk Yivx: WTF Is A Yivx? | Ep. 4</td>\n",
       "      <td>https://www.youtube.com/watch?v=KM8Rybo3xQQ</td>\n",
       "      <td>[{'name': 'The Skwad', 'url': 'https://www.you...</td>\n",
       "      <td>2018-01-08T19:46:14.669Z</td>\n",
       "      <td>[YouTube]</td>\n",
       "      <td>[YouTube watch history]</td>\n",
       "      <td>NaN</td>\n",
       "      <td>NaN</td>\n",
       "    </tr>\n",
       "    <tr>\n",
       "      <th>36563</th>\n",
       "      <td>YouTube</td>\n",
       "      <td>Watched New Kids On The Block | A Call Of Duty...</td>\n",
       "      <td>https://www.youtube.com/watch?v=NU1hRIxgQlY</td>\n",
       "      <td>[{'name': 'The Skwad', 'url': 'https://www.you...</td>\n",
       "      <td>2018-01-08T19:45:32.787Z</td>\n",
       "      <td>[YouTube]</td>\n",
       "      <td>[YouTube watch history]</td>\n",
       "      <td>NaN</td>\n",
       "      <td>NaN</td>\n",
       "    </tr>\n",
       "    <tr>\n",
       "      <th>36564</th>\n",
       "      <td>YouTube</td>\n",
       "      <td>Watched [SOLVED] - The File Or Directory Is Co...</td>\n",
       "      <td>https://www.youtube.com/watch?v=Ix13LRGmzk8</td>\n",
       "      <td>[{'name': 'MrJayBusch', 'url': 'https://www.yo...</td>\n",
       "      <td>2017-12-30T05:24:50.736Z</td>\n",
       "      <td>[YouTube]</td>\n",
       "      <td>[YouTube watch history]</td>\n",
       "      <td>NaN</td>\n",
       "      <td>NaN</td>\n",
       "    </tr>\n",
       "    <tr>\n",
       "      <th>36565</th>\n",
       "      <td>YouTube</td>\n",
       "      <td>Watched https://www.youtube.com/watch?v=ullCsJ...</td>\n",
       "      <td>https://www.youtube.com/watch?v=ullCsJEWDbM</td>\n",
       "      <td>NaN</td>\n",
       "      <td>2017-12-30T05:23:55.390Z</td>\n",
       "      <td>[YouTube]</td>\n",
       "      <td>[YouTube watch history]</td>\n",
       "      <td>NaN</td>\n",
       "      <td>NaN</td>\n",
       "    </tr>\n",
       "  </tbody>\n",
       "</table>\n",
       "<p>36566 rows × 9 columns</p>\n",
       "</div>"
      ],
      "text/plain": [
       "        header                                              title  \\\n",
       "0      YouTube  Watched Brute Showdown Episode 3: Deadlift, Ph...   \n",
       "1      YouTube            Watched Disney+ | The Book of Boba Fett   \n",
       "2      YouTube              Watched Why we’re leaving California.   \n",
       "3      YouTube                            Watched Best of Kiasmos   \n",
       "4      YouTube      Watched Vrbo | A Place Together | 30s | Combo   \n",
       "...        ...                                                ...   \n",
       "36561  YouTube  Watched EPIC WORKOUT | Bradley Martyn, Phil He...   \n",
       "36562  YouTube            Watched Sk Yivx: WTF Is A Yivx? | Ep. 4   \n",
       "36563  YouTube  Watched New Kids On The Block | A Call Of Duty...   \n",
       "36564  YouTube  Watched [SOLVED] - The File Or Directory Is Co...   \n",
       "36565  YouTube  Watched https://www.youtube.com/watch?v=ullCsJ...   \n",
       "\n",
       "                                          titleUrl  \\\n",
       "0      https://www.youtube.com/watch?v=FJ5Sxlhn-3I   \n",
       "1      https://www.youtube.com/watch?v=yUDTNEqd5Zk   \n",
       "2      https://www.youtube.com/watch?v=E9se1YqCRaA   \n",
       "3      https://www.youtube.com/watch?v=F1gIsoIVQG8   \n",
       "4      https://www.youtube.com/watch?v=lPxEdelzWvI   \n",
       "...                                            ...   \n",
       "36561  https://www.youtube.com/watch?v=rVKs3TmaF1Y   \n",
       "36562  https://www.youtube.com/watch?v=KM8Rybo3xQQ   \n",
       "36563  https://www.youtube.com/watch?v=NU1hRIxgQlY   \n",
       "36564  https://www.youtube.com/watch?v=Ix13LRGmzk8   \n",
       "36565  https://www.youtube.com/watch?v=ullCsJEWDbM   \n",
       "\n",
       "                                               subtitles  \\\n",
       "0      [{'name': 'Brute Strength', 'url': 'https://ww...   \n",
       "1                                                    NaN   \n",
       "2      [{'name': 'Matt D'Avella', 'url': 'https://www...   \n",
       "3      [{'name': 'Cure Music', 'url': 'https://www.yo...   \n",
       "4                                                    NaN   \n",
       "...                                                  ...   \n",
       "36561  [{'name': 'Bradley Martyn', 'url': 'https://ww...   \n",
       "36562  [{'name': 'The Skwad', 'url': 'https://www.you...   \n",
       "36563  [{'name': 'The Skwad', 'url': 'https://www.you...   \n",
       "36564  [{'name': 'MrJayBusch', 'url': 'https://www.yo...   \n",
       "36565                                                NaN   \n",
       "\n",
       "                           time   products  \\\n",
       "0      2022-06-09T00:28:32.650Z  [YouTube]   \n",
       "1      2022-06-09T00:28:16.307Z  [YouTube]   \n",
       "2      2022-06-09T00:27:38.615Z  [YouTube]   \n",
       "3      2022-06-09T00:25:09.401Z  [YouTube]   \n",
       "4      2022-06-09T00:25:02.652Z  [YouTube]   \n",
       "...                         ...        ...   \n",
       "36561  2018-01-16T18:39:19.530Z  [YouTube]   \n",
       "36562  2018-01-08T19:46:14.669Z  [YouTube]   \n",
       "36563  2018-01-08T19:45:32.787Z  [YouTube]   \n",
       "36564  2017-12-30T05:24:50.736Z  [YouTube]   \n",
       "36565  2017-12-30T05:23:55.390Z  [YouTube]   \n",
       "\n",
       "                                        activityControls        description  \\\n",
       "0                                [YouTube watch history]                NaN   \n",
       "1      [Web & App Activity, YouTube watch history, Yo...  Watched at 7:28pm   \n",
       "2                                [YouTube watch history]                NaN   \n",
       "3                                [YouTube watch history]                NaN   \n",
       "4      [Web & App Activity, YouTube watch history, Yo...  Watched at 7:25pm   \n",
       "...                                                  ...                ...   \n",
       "36561                            [YouTube watch history]                NaN   \n",
       "36562                            [YouTube watch history]                NaN   \n",
       "36563                            [YouTube watch history]                NaN   \n",
       "36564                            [YouTube watch history]                NaN   \n",
       "36565                            [YouTube watch history]                NaN   \n",
       "\n",
       "                             details  \n",
       "0                                NaN  \n",
       "1      [{'name': 'From Google Ads'}]  \n",
       "2                                NaN  \n",
       "3                                NaN  \n",
       "4      [{'name': 'From Google Ads'}]  \n",
       "...                              ...  \n",
       "36561                            NaN  \n",
       "36562                            NaN  \n",
       "36563                            NaN  \n",
       "36564                            NaN  \n",
       "36565                            NaN  \n",
       "\n",
       "[36566 rows x 9 columns]"
      ]
     },
     "execution_count": 3,
     "metadata": {},
     "output_type": "execute_result"
    }
   ],
   "source": [
    "df"
   ]
  },
  {
   "cell_type": "markdown",
   "metadata": {},
   "source": [
    "Get dataframe column types"
   ]
  },
  {
   "cell_type": "code",
   "execution_count": 4,
   "metadata": {},
   "outputs": [
    {
     "data": {
      "text/plain": [
       "header              object\n",
       "title               object\n",
       "titleUrl            object\n",
       "subtitles           object\n",
       "time                object\n",
       "products            object\n",
       "activityControls    object\n",
       "description         object\n",
       "details             object\n",
       "dtype: object"
      ]
     },
     "execution_count": 4,
     "metadata": {},
     "output_type": "execute_result"
    }
   ],
   "source": [
    "df.dtypes"
   ]
  },
  {
   "cell_type": "markdown",
   "metadata": {},
   "source": [
    "Convert time column to datetime type"
   ]
  },
  {
   "cell_type": "code",
   "execution_count": 5,
   "metadata": {},
   "outputs": [
    {
     "data": {
      "text/plain": [
       "0       2022-06-08 19:28:32.650000-05:00\n",
       "1       2022-06-08 19:28:16.307000-05:00\n",
       "2       2022-06-08 19:27:38.615000-05:00\n",
       "3       2022-06-08 19:25:09.401000-05:00\n",
       "4       2022-06-08 19:25:02.652000-05:00\n",
       "                      ...               \n",
       "36561   2018-01-16 13:39:19.530000-05:00\n",
       "36562   2018-01-08 14:46:14.669000-05:00\n",
       "36563   2018-01-08 14:45:32.787000-05:00\n",
       "36564   2017-12-30 00:24:50.736000-05:00\n",
       "36565   2017-12-30 00:23:55.390000-05:00\n",
       "Name: date, Length: 36566, dtype: datetime64[ns, CDT]"
      ]
     },
     "execution_count": 5,
     "metadata": {},
     "output_type": "execute_result"
    }
   ],
   "source": [
    "\n",
    "# copy time to date column as a datetime\n",
    "df[\"date\"] = pd.to_datetime(df[\"time\"])\n",
    "\n",
    "#convert from UTC to Local Time zone\n",
    "import datetime\n",
    "LOCAL_TIMEZONE = datetime.datetime.now(datetime.timezone.utc).astimezone().tzinfo\n",
    "\n",
    "df[\"date\"] = df[\"date\"].dt.tz_convert(LOCAL_TIMEZONE)\n",
    "\n",
    "df[\"date\"]\n"
   ]
  },
  {
   "cell_type": "markdown",
   "metadata": {},
   "source": [
    "Run some statistics over the dataframe"
   ]
  },
  {
   "cell_type": "code",
   "execution_count": 6,
   "metadata": {},
   "outputs": [
    {
     "name": "stdout",
     "output_type": "stream",
     "text": [
      "The dataset includes videos from 12/30/2017 to 06/08/2022.\n",
      "I watched 36566 videos over 1621 days. That's an average of 22.6 per day.\n"
     ]
    }
   ],
   "source": [
    "videos_count = len(df)\n",
    "\n",
    "max_time = df[\"date\"].max()\n",
    "min_time = df[\"date\"].min()\n",
    "print(\"The dataset includes videos from {} to {}.\".format(min_time.strftime(\"%m/%d/%Y\"), max_time.strftime(\"%m/%d/%Y\")))\n",
    "\n",
    "days_count = max_time - min_time\n",
    "days_count = days_count.days\n",
    "avg_views = videos_count / days_count\n",
    "print(\"I watched {} videos over {} days. That's an average of {:.1f} per day.\".format(videos_count, days_count, avg_views))\n",
    "\n",
    "\n"
   ]
  },
  {
   "cell_type": "markdown",
   "metadata": {},
   "source": [
    "Heatmap of videos watched per day of the week per hour"
   ]
  },
  {
   "cell_type": "code",
   "execution_count": 11,
   "metadata": {},
   "outputs": [
    {
     "data": {
      "text/plain": [
       "<AxesSubplot: xlabel='hour', ylabel='weekday'>"
      ]
     },
     "execution_count": 11,
     "metadata": {},
     "output_type": "execute_result"
    },
    {
     "data": {
      "image/png": "[encoded data removed]",
      "text/plain": [
       "<Figure size 1440x360 with 2 Axes>"
      ]
     },
     "metadata": {
      "needs_background": "light"
     },
     "output_type": "display_data"
    }
   ],
   "source": [
    "import numpy as np\n",
    "import matplotlib.pyplot as plt\n",
    "import seaborn as sns\n",
    "\n",
    "df[\"weekday\"] = [timestamp.isoweekday() for timestamp in df[\"date\"]]\n",
    "df[\"hour\"] = [timestamp.hour for timestamp in df[\"date\"]]\n",
    "df[\"ones\"] = np.ones(len(df))\n",
    "\n",
    "views = df.pivot_table(index=\"weekday\", columns=\"hour\", values=\"ones\", aggfunc=np.sum, fill_value=0)\n",
    "\n",
    "plt.figure(figsize = (20, 5))\n",
    "sns.heatmap(views, annot=False, cmap=\"GnBu\") #Green and Blue"
   ]
  },
  {
   "cell_type": "markdown",
   "metadata": {},
   "source": [
    "Line chart of videos watched over time "
   ]
  },
  {
   "cell_type": "code",
   "execution_count": 13,
   "metadata": {},
   "outputs": [
    {
     "data": {
      "text/plain": [
       "<AxesSubplot: >"
      ]
     },
     "execution_count": 13,
     "metadata": {},
     "output_type": "execute_result"
    },
    {
     "data": {
      "image/png": "[encoded data removed]",
      "text/plain": [
       "<Figure size 1440x360 with 1 Axes>"
      ]
     },
     "metadata": {
      "needs_background": "light"
     },
     "output_type": "display_data"
    }
   ],
   "source": [
    "\n",
    "from pandas.tseries.offsets import *\n",
    "\n",
    "df[\"day\"] = pd.to_datetime(df['date']).dt.date\n",
    "\n",
    "df['week ending'] = df['date'] + Week(weekday=4)\n",
    "df[\"week ending day\"] = pd.to_datetime(df['week ending']).dt.date\n",
    "\n",
    "df['month ending'] = pd.to_datetime(df['date']) + MonthEnd(1)\n",
    "df[\"month ending day\"] = pd.to_datetime(df['month ending']).dt.date\n",
    "\n",
    "# s = df['day'].value_counts().sort_index()\n",
    "# s.plot(figsize=(20,5))\n",
    "\n",
    "# s2 = df['week ending day'].value_counts().sort_index()\n",
    "# s2.plot(figsize=(20,5))\n",
    "\n",
    "s3 = df['month ending day'].value_counts().sort_index()\n",
    "s3.plot(figsize=(20,5))\n"
   ]
  }
 ],
 "metadata": {
  "interpreter": {
   "hash": "aee8b7b246df8f9039afb4144a1f6fd8d2ca17a180786b69acc140d282b71a49"
  },
  "kernelspec": {
   "display_name": "Python 3.9.1 64-bit",
   "language": "python",
   "name": "python3"
  },
  "language_info": {
   "codemirror_mode": {
    "name": "ipython",
    "version": 3
   },
   "file_extension": ".py",
   "mimetype": "text/x-python",
   "name": "python",
   "nbconvert_exporter": "python",
   "pygments_lexer": "ipython3",
   "version": "3.10.5"
  },
  "orig_nbformat": 4
 },
 "nbformat": 4,
 "nbformat_minor": 2
}
