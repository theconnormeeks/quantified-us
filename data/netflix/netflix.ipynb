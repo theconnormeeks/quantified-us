{
 "cells": [
  {
   "cell_type": "code",
   "execution_count": 3,
   "metadata": {},
   "outputs": [],
   "source": [
    "import csv\n",
    "import pandas as pd\n",
    "data ='./NetflixViewingHistory.csv'\n",
    "df = pd.read_csv(data)"
   ]
  },
  {
   "cell_type": "code",
   "execution_count": 4,
   "metadata": {},
   "outputs": [
    {
     "data": {
      "text/html": [
       "<div>\n",
       "<style scoped>\n",
       "    .dataframe tbody tr th:only-of-type {\n",
       "        vertical-align: middle;\n",
       "    }\n",
       "\n",
       "    .dataframe tbody tr th {\n",
       "        vertical-align: top;\n",
       "    }\n",
       "\n",
       "    .dataframe thead th {\n",
       "        text-align: right;\n",
       "    }\n",
       "</style>\n",
       "<table border=\"1\" class=\"dataframe\">\n",
       "  <thead>\n",
       "    <tr style=\"text-align: right;\">\n",
       "      <th></th>\n",
       "      <th>Title</th>\n",
       "      <th>Date</th>\n",
       "    </tr>\n",
       "  </thead>\n",
       "  <tbody>\n",
       "    <tr>\n",
       "      <th>0</th>\n",
       "      <td>Stranger Things: Stranger Things 4: Chapter Tw...</td>\n",
       "      <td>7/1/22</td>\n",
       "    </tr>\n",
       "    <tr>\n",
       "      <th>1</th>\n",
       "      <td>Soul Surfer</td>\n",
       "      <td>6/30/22</td>\n",
       "    </tr>\n",
       "    <tr>\n",
       "      <th>2</th>\n",
       "      <td>Lean on Me</td>\n",
       "      <td>6/29/22</td>\n",
       "    </tr>\n",
       "    <tr>\n",
       "      <th>3</th>\n",
       "      <td>All That: Season 3: Episode 2</td>\n",
       "      <td>6/27/22</td>\n",
       "    </tr>\n",
       "    <tr>\n",
       "      <th>4</th>\n",
       "      <td>All That: Season 3: Episode 1</td>\n",
       "      <td>6/27/22</td>\n",
       "    </tr>\n",
       "    <tr>\n",
       "      <th>...</th>\n",
       "      <td>...</td>\n",
       "      <td>...</td>\n",
       "    </tr>\n",
       "    <tr>\n",
       "      <th>1482</th>\n",
       "      <td>Ozark: Season 1: Tonight We Improvise</td>\n",
       "      <td>9/23/18</td>\n",
       "    </tr>\n",
       "    <tr>\n",
       "      <th>1483</th>\n",
       "      <td>Ozark: Season 1: My Dripping Sleep</td>\n",
       "      <td>9/23/18</td>\n",
       "    </tr>\n",
       "    <tr>\n",
       "      <th>1484</th>\n",
       "      <td>Ozark: Season 1: Blue Cat</td>\n",
       "      <td>9/23/18</td>\n",
       "    </tr>\n",
       "    <tr>\n",
       "      <th>1485</th>\n",
       "      <td>Ozark: Season 1: Sugarwood</td>\n",
       "      <td>9/23/18</td>\n",
       "    </tr>\n",
       "    <tr>\n",
       "      <th>1486</th>\n",
       "      <td>Southpaw</td>\n",
       "      <td>9/23/18</td>\n",
       "    </tr>\n",
       "  </tbody>\n",
       "</table>\n",
       "<p>1487 rows × 2 columns</p>\n",
       "</div>"
      ],
      "text/plain": [
       "                                                  Title     Date\n",
       "0     Stranger Things: Stranger Things 4: Chapter Tw...   7/1/22\n",
       "1                                           Soul Surfer  6/30/22\n",
       "2                                            Lean on Me  6/29/22\n",
       "3                         All That: Season 3: Episode 2  6/27/22\n",
       "4                         All That: Season 3: Episode 1  6/27/22\n",
       "...                                                 ...      ...\n",
       "1482              Ozark: Season 1: Tonight We Improvise  9/23/18\n",
       "1483                 Ozark: Season 1: My Dripping Sleep  9/23/18\n",
       "1484                          Ozark: Season 1: Blue Cat  9/23/18\n",
       "1485                         Ozark: Season 1: Sugarwood  9/23/18\n",
       "1486                                           Southpaw  9/23/18\n",
       "\n",
       "[1487 rows x 2 columns]"
      ]
     },
     "execution_count": 4,
     "metadata": {},
     "output_type": "execute_result"
    }
   ],
   "source": [
    "df"
   ]
  },
  {
   "cell_type": "code",
   "execution_count": 6,
   "metadata": {},
   "outputs": [
    {
     "data": {
      "text/plain": [
       "Title    object\n",
       "Date     object\n",
       "dtype: object"
      ]
     },
     "execution_count": 6,
     "metadata": {},
     "output_type": "execute_result"
    }
   ],
   "source": [
    "df.dtypes"
   ]
  },
  {
   "cell_type": "code",
   "execution_count": 7,
   "metadata": {},
   "outputs": [],
   "source": [
    "df[\"Date2\"] = pd.to_datetime(df[\"Date\"])\n"
   ]
  },
  {
   "cell_type": "code",
   "execution_count": 11,
   "metadata": {},
   "outputs": [
    {
     "data": {
      "text/html": [
       "<div>\n",
       "<style scoped>\n",
       "    .dataframe tbody tr th:only-of-type {\n",
       "        vertical-align: middle;\n",
       "    }\n",
       "\n",
       "    .dataframe tbody tr th {\n",
       "        vertical-align: top;\n",
       "    }\n",
       "\n",
       "    .dataframe thead th {\n",
       "        text-align: right;\n",
       "    }\n",
       "</style>\n",
       "<table border=\"1\" class=\"dataframe\">\n",
       "  <thead>\n",
       "    <tr style=\"text-align: right;\">\n",
       "      <th></th>\n",
       "      <th>Title</th>\n",
       "      <th>Date</th>\n",
       "      <th>Date2</th>\n",
       "    </tr>\n",
       "  </thead>\n",
       "  <tbody>\n",
       "    <tr>\n",
       "      <th>0</th>\n",
       "      <td>Stranger Things: Stranger Things 4: Chapter Tw...</td>\n",
       "      <td>7/1/22</td>\n",
       "      <td>2022-07-01</td>\n",
       "    </tr>\n",
       "    <tr>\n",
       "      <th>1</th>\n",
       "      <td>Soul Surfer</td>\n",
       "      <td>6/30/22</td>\n",
       "      <td>2022-06-30</td>\n",
       "    </tr>\n",
       "    <tr>\n",
       "      <th>2</th>\n",
       "      <td>Lean on Me</td>\n",
       "      <td>6/29/22</td>\n",
       "      <td>2022-06-29</td>\n",
       "    </tr>\n",
       "    <tr>\n",
       "      <th>3</th>\n",
       "      <td>All That: Season 3: Episode 2</td>\n",
       "      <td>6/27/22</td>\n",
       "      <td>2022-06-27</td>\n",
       "    </tr>\n",
       "    <tr>\n",
       "      <th>4</th>\n",
       "      <td>All That: Season 3: Episode 1</td>\n",
       "      <td>6/27/22</td>\n",
       "      <td>2022-06-27</td>\n",
       "    </tr>\n",
       "    <tr>\n",
       "      <th>...</th>\n",
       "      <td>...</td>\n",
       "      <td>...</td>\n",
       "      <td>...</td>\n",
       "    </tr>\n",
       "    <tr>\n",
       "      <th>1482</th>\n",
       "      <td>Ozark: Season 1: Tonight We Improvise</td>\n",
       "      <td>9/23/18</td>\n",
       "      <td>2018-09-23</td>\n",
       "    </tr>\n",
       "    <tr>\n",
       "      <th>1483</th>\n",
       "      <td>Ozark: Season 1: My Dripping Sleep</td>\n",
       "      <td>9/23/18</td>\n",
       "      <td>2018-09-23</td>\n",
       "    </tr>\n",
       "    <tr>\n",
       "      <th>1484</th>\n",
       "      <td>Ozark: Season 1: Blue Cat</td>\n",
       "      <td>9/23/18</td>\n",
       "      <td>2018-09-23</td>\n",
       "    </tr>\n",
       "    <tr>\n",
       "      <th>1485</th>\n",
       "      <td>Ozark: Season 1: Sugarwood</td>\n",
       "      <td>9/23/18</td>\n",
       "      <td>2018-09-23</td>\n",
       "    </tr>\n",
       "    <tr>\n",
       "      <th>1486</th>\n",
       "      <td>Southpaw</td>\n",
       "      <td>9/23/18</td>\n",
       "      <td>2018-09-23</td>\n",
       "    </tr>\n",
       "  </tbody>\n",
       "</table>\n",
       "<p>1487 rows × 3 columns</p>\n",
       "</div>"
      ],
      "text/plain": [
       "                                                  Title     Date      Date2\n",
       "0     Stranger Things: Stranger Things 4: Chapter Tw...   7/1/22 2022-07-01\n",
       "1                                           Soul Surfer  6/30/22 2022-06-30\n",
       "2                                            Lean on Me  6/29/22 2022-06-29\n",
       "3                         All That: Season 3: Episode 2  6/27/22 2022-06-27\n",
       "4                         All That: Season 3: Episode 1  6/27/22 2022-06-27\n",
       "...                                                 ...      ...        ...\n",
       "1482              Ozark: Season 1: Tonight We Improvise  9/23/18 2018-09-23\n",
       "1483                 Ozark: Season 1: My Dripping Sleep  9/23/18 2018-09-23\n",
       "1484                          Ozark: Season 1: Blue Cat  9/23/18 2018-09-23\n",
       "1485                         Ozark: Season 1: Sugarwood  9/23/18 2018-09-23\n",
       "1486                                           Southpaw  9/23/18 2018-09-23\n",
       "\n",
       "[1487 rows x 3 columns]"
      ]
     },
     "execution_count": 11,
     "metadata": {},
     "output_type": "execute_result"
    }
   ],
   "source": [
    "df"
   ]
  },
  {
   "cell_type": "code",
   "execution_count": 12,
   "metadata": {},
   "outputs": [
    {
     "name": "stdout",
     "output_type": "stream",
     "text": [
      "The dataset includes videos from 09/23/2018 to 07/01/2022.\n",
      "I watched 1487 videos over 1377 days. That's an average of 1.1 per day.\n"
     ]
    }
   ],
   "source": [
    "videos_count = len(df)\n",
    "\n",
    "max_time = df[\"Date2\"].max()\n",
    "min_time = df[\"Date2\"].min()\n",
    "print(\"The dataset includes videos from {} to {}.\".format(min_time.strftime(\"%m/%d/%Y\"), max_time.strftime(\"%m/%d/%Y\")))\n",
    "\n",
    "days_count = max_time - min_time\n",
    "days_count = days_count.days\n",
    "avg_views = videos_count / days_count\n",
    "print(\"I watched {} videos over {} days. That's an average of {:.1f} per day.\".format(videos_count, days_count, avg_views))"
   ]
  },
  {
   "cell_type": "code",
   "execution_count": 15,
   "metadata": {},
   "outputs": [
    {
     "data": {
      "text/plain": [
       "<AxesSubplot: >"
      ]
     },
     "execution_count": 15,
     "metadata": {},
     "output_type": "execute_result"
    },
    {
     "data": {
      "image/png": "[encoded data removed]",
      "text/plain": [
       "<Figure size 1440x360 with 1 Axes>"
      ]
     },
     "metadata": {
      "needs_background": "light"
     },
     "output_type": "display_data"
    }
   ],
   "source": [
    "from pandas.tseries.offsets import *\n",
    "\n",
    "df[\"day\"] = pd.to_datetime(df['Date2']).dt.date\n",
    "\n",
    "df['week ending'] = df['Date2'] + Week(weekday=4)\n",
    "df[\"week ending day\"] = pd.to_datetime(df['week ending']).dt.date\n",
    "\n",
    "df['month ending'] = pd.to_datetime(df['Date2']) + MonthEnd(1)\n",
    "df[\"month ending day\"] = pd.to_datetime(df['month ending']).dt.date\n",
    "\n",
    "# s = df['day'].value_counts().sort_index()\n",
    "# s.plot(figsize=(20,5))\n",
    "\n",
    "# s2 = df['week ending day'].value_counts().sort_index()\n",
    "# s2.plot(figsize=(20,5))\n",
    "\n",
    "s3 = df['month ending day'].value_counts().sort_index()\n",
    "s3.plot(figsize=(20,5))"
   ]
  }
 ],
 "metadata": {
  "interpreter": {
   "hash": "aee8b7b246df8f9039afb4144a1f6fd8d2ca17a180786b69acc140d282b71a49"
  },
  "kernelspec": {
   "display_name": "Python 3.10.5 64-bit",
   "language": "python",
   "name": "python3"
  },
  "language_info": {
   "codemirror_mode": {
    "name": "ipython",
    "version": 3
   },
   "file_extension": ".py",
   "mimetype": "text/x-python",
   "name": "python",
   "nbconvert_exporter": "python",
   "pygments_lexer": "ipython3",
   "version": "3.10.5"
  },
  "orig_nbformat": 4
 },
 "nbformat": 4,
 "nbformat_minor": 2
}
